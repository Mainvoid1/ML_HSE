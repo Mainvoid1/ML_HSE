{
 "cells": [
  {
   "cell_type": "markdown",
   "metadata": {},
   "source": [
    "# Homework on Statistical Learning Theory"
   ]
  },
  {
   "cell_type": "markdown",
   "metadata": {},
   "source": [
    "<b>Deadline:</b> 24.12.2018, 9 a.m. (there would be no soft deadline)\n",
    "\n",
    "<b>How to hang in?</b> You need to put your Jupyter Notebook to GitHub repo and send link in Telegram to <b>@CroCode</b>"
   ]
  },
  {
   "cell_type": "code",
   "execution_count": null,
   "metadata": {
    "collapsed": true
   },
   "outputs": [],
   "source": [
    "# put your name here"
   ]
  },
  {
   "cell_type": "markdown",
   "metadata": {},
   "source": [
    "### Block №1. Combinatorics and Probability Theory\n",
    "\n",
    "You can use LaTeX expressions in order to provide formulas: https://en.wikibooks.org/wiki/LaTeX"
   ]
  },
  {
   "cell_type": "markdown",
   "metadata": {},
   "source": [
    "1) In how many ways can the letters of the word PROBABILITY be rearranged such that all I’s and P’s appear in the middle?\n",
    "\n",
    "<b>Total:</b> 1 point"
   ]
  },
  {
   "cell_type": "code",
   "execution_count": null,
   "metadata": {
    "collapsed": true
   },
   "outputs": [],
   "source": [
    "# put your answer here"
   ]
  },
  {
   "cell_type": "markdown",
   "metadata": {},
   "source": [
    "2) The probability of having defect (at least 1 defective product) in batch of 100 products is 63.2%. Find the probability of having less than 3 defective products in such a batch.\n",
    "\n",
    "<i>Hint:</i> use idea of Poisson distribution (https://en.wikipedia.org/wiki/Poisson_distribution)\n",
    "\n",
    "<b>Total:</b> 1.5 points"
   ]
  },
  {
   "cell_type": "code",
   "execution_count": null,
   "metadata": {
    "collapsed": true
   },
   "outputs": [],
   "source": [
    "# put your answer here"
   ]
  },
  {
   "cell_type": "markdown",
   "metadata": {},
   "source": [
    "### Block №2. Data Structures and Algorithms\n",
    "\n",
    "<b><i>NB!</i></b> Here you need to provide solution having minimal memory and runtime complexity in terms of Big O notation."
   ]
  },
  {
   "cell_type": "markdown",
   "metadata": {},
   "source": [
    "3) Suggest an algorithm that resets all elements in the column <i>i</i> and the row <i>j</i> of the matrix M to zeros if the element in the <i>(i, j)</i> cell is zero. Provide solution having minimal memory and runtime complexity in terms of Big O notation.\n",
    "\n",
    "<b>Input:</b> matrix M\n",
    "\n",
    "<b>Output:</b> modified according to condition matrix M\n",
    "\n",
    "<b>Total:</b> 2 points"
   ]
  },
  {
   "cell_type": "code",
   "execution_count": null,
   "metadata": {
    "collapsed": true
   },
   "outputs": [],
   "source": [
    "# put your code with comments here\n",
    "\n",
    "# Memory complexity: ...\n",
    "# Runtime complexity: ..."
   ]
  },
  {
   "cell_type": "markdown",
   "metadata": {},
   "source": [
    "4) Imagine you have a square picture, each pixel of which can be black or white (you can interpret it as binary matrix). Develop an algorithm for finding the maximum sub-square consisting of only black pixels.\n",
    "\n",
    "<b>Input:</b> binary matrix M (contains only 0-1 elements)\n",
    "\n",
    "<b>Output:</b> <i>((a1, b1),(a2, b2))</i> where <i>(a1, b1)</i> and <i>(a2, b2)</i> stay for coordinates of upper-left and lower-right sub-square corners respectively\n",
    "\n",
    "<b>Total:</b> 2.5 points"
   ]
  },
  {
   "cell_type": "code",
   "execution_count": null,
   "metadata": {
    "collapsed": true
   },
   "outputs": [],
   "source": [
    "# put your code with comments here\n",
    "\n",
    "# Memory complexity: ...\n",
    "# Runtime complexity: ..."
   ]
  },
  {
   "cell_type": "markdown",
   "metadata": {},
   "source": [
    "5) Imagine series of integer numbers having only 3, 5 or 7 of some power in their factorization (i.e. 1, 3, 5, 7, 9, 15 etc.). Given k you're asked to return k-th number in this series.\n",
    "\n",
    "<i>Helpful link</i>: https://en.wikipedia.org/wiki/Fundamental_theorem_of_arithmetic\n",
    "\n",
    "<b>Input:</b> integer number k\n",
    "\n",
    "<b>Output:</b> k-th number of series\n",
    "\n",
    "<b>Total:</b> 3 points"
   ]
  },
  {
   "cell_type": "code",
   "execution_count": null,
   "metadata": {
    "collapsed": true
   },
   "outputs": [],
   "source": [
    "# put your code with comments here\n",
    "\n",
    "# Memory complexity: ...\n",
    "# Runtime complexity: ..."
   ]
  }
 ],
 "metadata": {
  "kernelspec": {
   "display_name": "Python 3",
   "language": "python",
   "name": "python3"
  },
  "language_info": {
   "codemirror_mode": {
    "name": "ipython",
    "version": 3
   },
   "file_extension": ".py",
   "mimetype": "text/x-python",
   "name": "python",
   "nbconvert_exporter": "python",
   "pygments_lexer": "ipython3",
   "version": "3.6.0"
  }
 },
 "nbformat": 4,
 "nbformat_minor": 2
}
