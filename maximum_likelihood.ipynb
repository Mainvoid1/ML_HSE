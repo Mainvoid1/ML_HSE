{
 "cells": [
  {
   "cell_type": "code",
   "execution_count": null,
   "metadata": {
    "collapsed": true
   },
   "outputs": [],
   "source": [
    "from scipy.stats import norm\n",
    "import numpy as np\n",
    "import matplotlib.pyplot as plt\n",
    "% matplotlib inline"
   ]
  },
  {
   "cell_type": "code",
   "execution_count": null,
   "metadata": {
    "collapsed": false
   },
   "outputs": [],
   "source": [
    "norm.pdf(3, 3, 1)"
   ]
  },
  {
   "cell_type": "code",
   "execution_count": null,
   "metadata": {
    "collapsed": false
   },
   "outputs": [],
   "source": [
    "norm.pdf(3, 7, 2)"
   ]
  },
  {
   "cell_type": "code",
   "execution_count": null,
   "metadata": {
    "collapsed": false
   },
   "outputs": [],
   "source": [
    "norm.pdf(2, 4, 1)*norm.pdf(6, 4, 1)"
   ]
  },
  {
   "cell_type": "code",
   "execution_count": null,
   "metadata": {
    "collapsed": false
   },
   "outputs": [],
   "source": [
    "# Compare the likelihood of the random samples to the two \n",
    "# distributions\n",
    "def compare_data_to_dist(x, mu_1=5, mu_2=7, sd_1=3, sd_2=3):\n",
    "    ll_1 = 0\n",
    "    ll_2 = 0\n",
    "    for i in x:\n",
    "        ll_1 += np.log(norm.pdf(i, mu_1, sd_1))\n",
    "        ll_2 += np.log(norm.pdf(i, mu_2, sd_2))\n",
    "    \n",
    "    print(\"The LL of of x for mu = %d and sd = %d is: %.4f\" % (mu_1, sd_1, ll_1))\n",
    "    print(\"The LL of of x for mu = %d and sd = %d is: %.4f\" % (mu_2, sd_2, ll_2))\n",
    "    \n",
    "x = [4, 5, 7, 8, 8, 9, 10, 5, 2, 3, 5, 4, 8, 9]\n",
    "compare_data_to_dist(x)"
   ]
  },
  {
   "cell_type": "code",
   "execution_count": null,
   "metadata": {
    "collapsed": false
   },
   "outputs": [],
   "source": [
    "# Plot the Maximum Likelihood Functions for different values of mu \n",
    "# and sigma\n",
    "def plot_ll(x):\n",
    "    plt.figure(figsize=(5,8))\n",
    "    plt.title(\"Maximim Likelihood Functions\")\n",
    "    plt.xlabel(\"Mean Estimate\")\n",
    "    plt.ylabel(\"Log Likelihood\")\n",
    "    plt.ylim(-40, -30)\n",
    "    plt.xlim(0, 12)\n",
    "    mu_set = np.linspace(0, 16, 1000)\n",
    "    sd_set = [.5, 1, 1.5, 2.5, 3, 3.5]\n",
    "    max_val = max_val_location = None\n",
    "    \n",
    "    for i in sd_set:\n",
    "        ll_array = []\n",
    "\n",
    "        for j in mu_set:\n",
    "            temp_mm = 0\n",
    "\n",
    "            for k in x:\n",
    "                temp_mm += np.log(norm.pdf(k, j, i)) # The LL function\n",
    "            ll_array.append(temp_mm)\n",
    "\n",
    "            if (max_val is None):\n",
    "                max_val = max(ll_array)\n",
    "            elif max(ll_array) > max_val:\n",
    "                max_val = max(ll_array)\n",
    "                max_val_location = j\n",
    "\n",
    "    # Plot the results\n",
    "    plt.plot(mu_set, ll_array, label=\"sd: %.1f\" % i)\n",
    "\n",
    "    print(\"The max LL for sd %.2f is %.2f\" % (i, max(ll_array)))   \n",
    "    plt.axvline(x=max_val_location, color='black', ls='-.')\n",
    "    plt.legend(loc='lower left')"
   ]
  },
  {
   "cell_type": "code",
   "execution_count": null,
   "metadata": {
    "collapsed": false
   },
   "outputs": [],
   "source": [
    "plot_ll(x)"
   ]
  },
  {
   "cell_type": "code",
   "execution_count": null,
   "metadata": {
    "collapsed": false
   },
   "outputs": [],
   "source": [
    "# We can also verify these with the standard mean and std functions in numpy\n",
    "np.mean(x)\n",
    "np.std(x)"
   ]
  }
 ],
 "metadata": {
  "kernelspec": {
   "display_name": "Python 3",
   "language": "python",
   "name": "python3"
  },
  "language_info": {
   "codemirror_mode": {
    "name": "ipython",
    "version": 3
   },
   "file_extension": ".py",
   "mimetype": "text/x-python",
   "name": "python",
   "nbconvert_exporter": "python",
   "pygments_lexer": "ipython3",
   "version": "3.6.0"
  }
 },
 "nbformat": 4,
 "nbformat_minor": 2
}
