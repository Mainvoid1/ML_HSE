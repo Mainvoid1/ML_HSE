{
 "cells": [
  {
   "cell_type": "code",
   "execution_count": null,
   "metadata": {
    "collapsed": false
   },
   "outputs": [],
   "source": [
    "# Gaussian Percent Point Function\n",
    "from scipy.stats import norm\n",
    "# define probability\n",
    "p = 0.95\n",
    "# retrieve value <= probability\n",
    "value = norm.ppf(p)\n",
    "print(value)\n",
    "# confirm with cdf\n",
    "p = norm.cdf(value)\n",
    "print(p)"
   ]
  },
  {
   "cell_type": "code",
   "execution_count": null,
   "metadata": {
    "collapsed": false
   },
   "outputs": [],
   "source": [
    "# Student t-distribution Percent Point Function\n",
    "from scipy.stats import t\n",
    "# define probability\n",
    "p = 0.95\n",
    "df = 10\n",
    "# retrieve value <= probability\n",
    "value = t.ppf(p, df)\n",
    "print(value)\n",
    "# confirm with cdf\n",
    "p = t.cdf(value, df)\n",
    "print(p)"
   ]
  },
  {
   "cell_type": "code",
   "execution_count": null,
   "metadata": {
    "collapsed": false
   },
   "outputs": [],
   "source": [
    "# Chi-Squared Percent Point Function\n",
    "from scipy.stats import chi2\n",
    "# define probability\n",
    "p = 0.95\n",
    "df = 10\n",
    "# retrieve value <= probability\n",
    "value = chi2.ppf(p, df)\n",
    "print(value)\n",
    "# confirm with cdf\n",
    "p = chi2.cdf(value, df)\n",
    "print(p)"
   ]
  }
 ],
 "metadata": {
  "kernelspec": {
   "display_name": "Python 3",
   "language": "python",
   "name": "python3"
  },
  "language_info": {
   "codemirror_mode": {
    "name": "ipython",
    "version": 3
   },
   "file_extension": ".py",
   "mimetype": "text/x-python",
   "name": "python",
   "nbconvert_exporter": "python",
   "pygments_lexer": "ipython3",
   "version": "3.6.0"
  }
 },
 "nbformat": 4,
 "nbformat_minor": 2
}
