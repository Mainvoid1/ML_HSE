{
 "cells": [
  {
   "cell_type": "code",
   "execution_count": null,
   "metadata": {
    "collapsed": true
   },
   "outputs": [],
   "source": [
    "import csv"
   ]
  },
  {
   "cell_type": "code",
   "execution_count": null,
   "metadata": {
    "collapsed": true
   },
   "outputs": [],
   "source": [
    "with open(\"wine-data.csv\", \"r\", encoding=\"latin-1\") as f:\n",
    "    wines = list(csv.reader(f))"
   ]
  },
  {
   "cell_type": "code",
   "execution_count": null,
   "metadata": {
    "collapsed": false
   },
   "outputs": [],
   "source": [
    "# Mean\n",
    "# Extract all of the scores from the data set \n",
    "scores = [float(w[4]) for w in wines]\n",
    "\n",
    "# Sum up all of the scores \n",
    "sum_score = sum(scores)\n",
    "\n",
    "# Get the number of observations\n",
    "num_score = len(scores)\n",
    "\n",
    "# Now calculate the average\n",
    "avg_score = sum_score/num_score\n",
    "avg_score"
   ]
  },
  {
   "cell_type": "code",
   "execution_count": null,
   "metadata": {
    "collapsed": false
   },
   "outputs": [],
   "source": [
    "# Median\n",
    "# Isolate prices from the data set\n",
    "prices = [float(w[5]) for w in wines if w[5] != \"\"]\n",
    "\n",
    "# Find the number of wine prices \n",
    "num_wines = len(prices)\n",
    "\n",
    "# We'll sort the wine prices into ascending order\n",
    "sorted_prices = sorted(prices)\n",
    "\n",
    "# We'll calculate the middle index \n",
    "middle = (num_wines / 2) + 0.5\n",
    "\n",
    "# Now we can return the median\n",
    "sorted_prices[middle]"
   ]
  },
  {
   "cell_type": "code",
   "execution_count": null,
   "metadata": {
    "collapsed": false
   },
   "outputs": [],
   "source": [
    "sum(prices)/len(prices)"
   ]
  },
  {
   "cell_type": "code",
   "execution_count": null,
   "metadata": {
    "collapsed": false
   },
   "outputs": [],
   "source": [
    "# Outliers\n",
    "min_price = min(prices)\n",
    "max_price = max(prices)\n",
    "print(min_price, max_price)"
   ]
  },
  {
   "cell_type": "code",
   "execution_count": null,
   "metadata": {
    "collapsed": false
   },
   "outputs": [],
   "source": [
    "# Mode\n",
    "# Initialize an empty dictionary to count our price appearances\n",
    "price_counts = {}\n",
    "for p in prices:\n",
    "    if p not in price_counts:\n",
    "        price_counts[p] = 1\n",
    "    else:\n",
    "        price_counts[p] += 1\n",
    "\n",
    "# Run through our new price_counts dictionary and log the highest value\n",
    "maxp = 0\n",
    "mode_price = None\n",
    "for k, v in price_counts.items():\n",
    "    if maxp < v:\n",
    "        maxp = v\n",
    "        mode_price = k\n",
    "print(mode_price, maxp)"
   ]
  },
  {
   "cell_type": "code",
   "execution_count": null,
   "metadata": {
    "collapsed": false
   },
   "outputs": [],
   "source": [
    "# Spread\n",
    "price_range = max_price - min_price\n",
    "print(price_range)"
   ]
  },
  {
   "cell_type": "code",
   "execution_count": null,
   "metadata": {
    "collapsed": false
   },
   "outputs": [],
   "source": [
    "# Standard deviation\n",
    "def stdev(nums):\n",
    "    diffs = 0\n",
    "    avg = sum(nums)/len(nums)\n",
    "    for n in nums:\n",
    "        diffs += (n - avg)**(2)\n",
    "    return (diffs/(len(nums)-1))**(0.5) # don't you that something is incorrect?\n",
    "\n",
    "print(stdev(scores))\n",
    "print(stdev(prices))"
   ]
  }
 ],
 "metadata": {
  "kernelspec": {
   "display_name": "Python 3",
   "language": "python",
   "name": "python3"
  },
  "language_info": {
   "codemirror_mode": {
    "name": "ipython",
    "version": 3
   },
   "file_extension": ".py",
   "mimetype": "text/x-python",
   "name": "python",
   "nbconvert_exporter": "python",
   "pygments_lexer": "ipython3",
   "version": "3.6.0"
  }
 },
 "nbformat": 4,
 "nbformat_minor": 2
}
